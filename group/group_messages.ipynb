{
 "cells": [
  {
   "cell_type": "markdown",
   "metadata": {},
   "source": [
    "# Imports"
   ]
  },
  {
   "cell_type": "code",
   "execution_count": 137,
   "metadata": {},
   "outputs": [],
   "source": [
    "from datetime import datetime\n",
    "import json\n",
    "import pandas as pd"
   ]
  },
  {
   "cell_type": "markdown",
   "metadata": {},
   "source": [
    "# Helpers"
   ]
  },
  {
   "cell_type": "code",
   "execution_count": 138,
   "metadata": {},
   "outputs": [],
   "source": [
    "def to_datetime(ts):\n",
    "    return datetime.fromtimestamp(ts)"
   ]
  },
  {
   "cell_type": "code",
   "execution_count": 139,
   "metadata": {},
   "outputs": [],
   "source": [
    "def group_time(user):\n",
    "    \"\"\"\n",
    "        `dict_time` have '0', '1' ... as a key. In the keys have a list\n",
    "        with `ts` values. The `ts` values are pull from `user.ts` and\n",
    "        these values will be use for compare the `dict_time` with the\n",
    "        `DataFrame` and update the `group_m` column.\n",
    "    \"\"\"\n",
    "    global dict_time\n",
    "\n",
    "    if len(dict_time.keys()) > 0: \n",
    "        group_count = sorted(dict_time.keys())[-1]\n",
    "        \n",
    "        last_ts = max(dict_time[group_count])\n",
    "        \n",
    "        last_datetime = to_datetime(last_ts)\n",
    "        user_datetime = to_datetime(user.ts)\n",
    "        \n",
    "        dif = (last_datetime - user_datetime).total_seconds()\n",
    "        \n",
    "        if abs(dif) < 120:\n",
    "            dict_time.get(group_count).append(user.ts)\n",
    "        else:\n",
    "            group_count = str(int(group_count) + 1)\n",
    "\n",
    "            dict_time[group_count] = [user.ts]\n",
    "\n",
    "        user.group_m = group_count\n",
    "    else: \n",
    "        dict_time['0'] = [user.ts]\n",
    "        user.group_m = '0'\n",
    "    \n",
    "    return user"
   ]
  },
  {
   "cell_type": "code",
   "execution_count": 140,
   "metadata": {},
   "outputs": [],
   "source": [
    "def change_id(value):\n",
    "    \"\"\"\n",
    "        Change group int id (like '0') to the first `timestamp`\n",
    "        value in the group.\n",
    "    \"\"\"\n",
    "    value.group_men = str(min(value.ts))\n",
    "\n",
    "    return value"
   ]
  },
  {
   "cell_type": "code",
   "execution_count": 141,
   "metadata": {},
   "outputs": [],
   "source": [
    "def correct_json(user_json):\n",
    "    for key in user_json.keys():\n",
    "        json_correct = json.loads(user_json.get(key))\n",
    "        \n",
    "        for i, element in enumerate(json_correct):\n",
    "            del element['group_men']\n",
    "            json_correct[i] = {k: v for k, v in element.items() if v is not None}\n",
    "        \n",
    "        user_json[key] = json_correct\n",
    "        \n",
    "    return user_json"
   ]
  },
  {
   "cell_type": "markdown",
   "metadata": {},
   "source": [
    "# Group Messages"
   ]
  },
  {
   "cell_type": "markdown",
   "metadata": {},
   "source": [
    "## Read json"
   ]
  },
  {
   "cell_type": "code",
   "execution_count": 142,
   "metadata": {},
   "outputs": [
    {
     "data": {
      "text/plain": [
       "(214, 13)"
      ]
     },
     "execution_count": 142,
     "metadata": {},
     "output_type": "execute_result"
    }
   ],
   "source": [
    "users_df = pd.read_json('U1ZQR43RB.json')\n",
    "users_df.shape"
   ]
  },
  {
   "cell_type": "code",
   "execution_count": 143,
   "metadata": {},
   "outputs": [
    {
     "data": {
      "text/html": [
       "<div>\n",
       "<style scoped>\n",
       "    .dataframe tbody tr th:only-of-type {\n",
       "        vertical-align: middle;\n",
       "    }\n",
       "\n",
       "    .dataframe tbody tr th {\n",
       "        vertical-align: top;\n",
       "    }\n",
       "\n",
       "    .dataframe thead th {\n",
       "        text-align: right;\n",
       "    }\n",
       "</style>\n",
       "<table border=\"1\" class=\"dataframe\">\n",
       "  <thead>\n",
       "    <tr style=\"text-align: right;\">\n",
       "      <th></th>\n",
       "      <th>user</th>\n",
       "      <th>type</th>\n",
       "      <th>subtype</th>\n",
       "      <th>ts</th>\n",
       "      <th>text</th>\n",
       "      <th>inviter</th>\n",
       "      <th>purpose</th>\n",
       "      <th>files</th>\n",
       "      <th>upload</th>\n",
       "      <th>display_as_bot</th>\n",
       "      <th>edited</th>\n",
       "      <th>item_type</th>\n",
       "      <th>item</th>\n",
       "    </tr>\n",
       "  </thead>\n",
       "  <tbody>\n",
       "    <tr>\n",
       "      <td>0</td>\n",
       "      <td>U0MFNAG05</td>\n",
       "      <td>message</td>\n",
       "      <td>channel_join</td>\n",
       "      <td>1.471111e+09</td>\n",
       "      <td>&lt;@U0MFNAG05&gt; has joined the channel</td>\n",
       "      <td>NaN</td>\n",
       "      <td>NaN</td>\n",
       "      <td>NaN</td>\n",
       "      <td>NaN</td>\n",
       "      <td>NaN</td>\n",
       "      <td>NaN</td>\n",
       "      <td>NaN</td>\n",
       "      <td>NaN</td>\n",
       "    </tr>\n",
       "    <tr>\n",
       "      <td>1</td>\n",
       "      <td>U0KK0T3CG</td>\n",
       "      <td>message</td>\n",
       "      <td>channel_join</td>\n",
       "      <td>1.471111e+09</td>\n",
       "      <td>&lt;@U0KK0T3CG&gt; has joined the channel</td>\n",
       "      <td>U0MFNAG05</td>\n",
       "      <td>NaN</td>\n",
       "      <td>NaN</td>\n",
       "      <td>NaN</td>\n",
       "      <td>NaN</td>\n",
       "      <td>NaN</td>\n",
       "      <td>NaN</td>\n",
       "      <td>NaN</td>\n",
       "    </tr>\n",
       "    <tr>\n",
       "      <td>2</td>\n",
       "      <td>U0MFNAG05</td>\n",
       "      <td>message</td>\n",
       "      <td>channel_purpose</td>\n",
       "      <td>1.471111e+09</td>\n",
       "      <td>&lt;@U0MFNAG05&gt; set the channel purpose: Discussi...</td>\n",
       "      <td>NaN</td>\n",
       "      <td>Discussion about all physics project related s...</td>\n",
       "      <td>NaN</td>\n",
       "      <td>NaN</td>\n",
       "      <td>NaN</td>\n",
       "      <td>NaN</td>\n",
       "      <td>NaN</td>\n",
       "      <td>NaN</td>\n",
       "    </tr>\n",
       "    <tr>\n",
       "      <td>3</td>\n",
       "      <td>U1ZQR43RB</td>\n",
       "      <td>message</td>\n",
       "      <td>channel_join</td>\n",
       "      <td>1.471111e+09</td>\n",
       "      <td>&lt;@U1ZQR43RB&gt; has joined the channel</td>\n",
       "      <td>U0MFNAG05</td>\n",
       "      <td>NaN</td>\n",
       "      <td>NaN</td>\n",
       "      <td>NaN</td>\n",
       "      <td>NaN</td>\n",
       "      <td>NaN</td>\n",
       "      <td>NaN</td>\n",
       "      <td>NaN</td>\n",
       "    </tr>\n",
       "    <tr>\n",
       "      <td>4</td>\n",
       "      <td>U0MFNAG05</td>\n",
       "      <td>message</td>\n",
       "      <td>NaN</td>\n",
       "      <td>1.471111e+09</td>\n",
       "      <td>Hong, let’s move our discussion here</td>\n",
       "      <td>NaN</td>\n",
       "      <td>NaN</td>\n",
       "      <td>NaN</td>\n",
       "      <td>NaN</td>\n",
       "      <td>NaN</td>\n",
       "      <td>NaN</td>\n",
       "      <td>NaN</td>\n",
       "      <td>NaN</td>\n",
       "    </tr>\n",
       "  </tbody>\n",
       "</table>\n",
       "</div>"
      ],
      "text/plain": [
       "        user     type          subtype            ts  \\\n",
       "0  U0MFNAG05  message     channel_join  1.471111e+09   \n",
       "1  U0KK0T3CG  message     channel_join  1.471111e+09   \n",
       "2  U0MFNAG05  message  channel_purpose  1.471111e+09   \n",
       "3  U1ZQR43RB  message     channel_join  1.471111e+09   \n",
       "4  U0MFNAG05  message              NaN  1.471111e+09   \n",
       "\n",
       "                                                text    inviter  \\\n",
       "0                <@U0MFNAG05> has joined the channel        NaN   \n",
       "1                <@U0KK0T3CG> has joined the channel  U0MFNAG05   \n",
       "2  <@U0MFNAG05> set the channel purpose: Discussi...        NaN   \n",
       "3                <@U1ZQR43RB> has joined the channel  U0MFNAG05   \n",
       "4               Hong, let’s move our discussion here        NaN   \n",
       "\n",
       "                                             purpose files  upload  \\\n",
       "0                                                NaN   NaN     NaN   \n",
       "1                                                NaN   NaN     NaN   \n",
       "2  Discussion about all physics project related s...   NaN     NaN   \n",
       "3                                                NaN   NaN     NaN   \n",
       "4                                                NaN   NaN     NaN   \n",
       "\n",
       "   display_as_bot edited item_type item  \n",
       "0             NaN    NaN       NaN  NaN  \n",
       "1             NaN    NaN       NaN  NaN  \n",
       "2             NaN    NaN       NaN  NaN  \n",
       "3             NaN    NaN       NaN  NaN  \n",
       "4             NaN    NaN       NaN  NaN  "
      ]
     },
     "execution_count": 143,
     "metadata": {},
     "output_type": "execute_result"
    }
   ],
   "source": [
    "users_df.head()"
   ]
  },
  {
   "cell_type": "code",
   "execution_count": 144,
   "metadata": {},
   "outputs": [
    {
     "name": "stdout",
     "output_type": "stream",
     "text": [
      "<class 'pandas.core.frame.DataFrame'>\n",
      "RangeIndex: 214 entries, 0 to 213\n",
      "Data columns (total 13 columns):\n",
      "user              214 non-null object\n",
      "type              214 non-null object\n",
      "subtype           5 non-null object\n",
      "ts                214 non-null float64\n",
      "text              214 non-null object\n",
      "inviter           2 non-null object\n",
      "purpose           1 non-null object\n",
      "files             26 non-null object\n",
      "upload            26 non-null float64\n",
      "display_as_bot    26 non-null float64\n",
      "edited            1 non-null object\n",
      "item_type         1 non-null object\n",
      "item              1 non-null object\n",
      "dtypes: float64(3), object(10)\n",
      "memory usage: 21.9+ KB\n"
     ]
    }
   ],
   "source": [
    "users_df.info()"
   ]
  },
  {
   "cell_type": "markdown",
   "metadata": {},
   "source": [
    "## Group by users"
   ]
  },
  {
   "cell_type": "code",
   "execution_count": 145,
   "metadata": {},
   "outputs": [],
   "source": [
    "total_users = users_df['user'].unique()"
   ]
  },
  {
   "cell_type": "code",
   "execution_count": 146,
   "metadata": {},
   "outputs": [
    {
     "data": {
      "text/plain": [
       "array(['U0MFNAG05', 'U0KK0T3CG', 'U1ZQR43RB', 'USLACKBOT'], dtype=object)"
      ]
     },
     "execution_count": 146,
     "metadata": {},
     "output_type": "execute_result"
    }
   ],
   "source": [
    "total_users"
   ]
  },
  {
   "cell_type": "markdown",
   "metadata": {},
   "source": [
    "Example:"
   ]
  },
  {
   "cell_type": "code",
   "execution_count": 147,
   "metadata": {},
   "outputs": [
    {
     "data": {
      "text/html": [
       "<div>\n",
       "<style scoped>\n",
       "    .dataframe tbody tr th:only-of-type {\n",
       "        vertical-align: middle;\n",
       "    }\n",
       "\n",
       "    .dataframe tbody tr th {\n",
       "        vertical-align: top;\n",
       "    }\n",
       "\n",
       "    .dataframe thead th {\n",
       "        text-align: right;\n",
       "    }\n",
       "</style>\n",
       "<table border=\"1\" class=\"dataframe\">\n",
       "  <thead>\n",
       "    <tr style=\"text-align: right;\">\n",
       "      <th></th>\n",
       "      <th>user</th>\n",
       "      <th>type</th>\n",
       "      <th>subtype</th>\n",
       "      <th>ts</th>\n",
       "      <th>text</th>\n",
       "      <th>inviter</th>\n",
       "      <th>purpose</th>\n",
       "      <th>files</th>\n",
       "      <th>upload</th>\n",
       "      <th>display_as_bot</th>\n",
       "      <th>edited</th>\n",
       "      <th>item_type</th>\n",
       "      <th>item</th>\n",
       "    </tr>\n",
       "  </thead>\n",
       "  <tbody>\n",
       "    <tr>\n",
       "      <td>0</td>\n",
       "      <td>U0MFNAG05</td>\n",
       "      <td>message</td>\n",
       "      <td>channel_join</td>\n",
       "      <td>1.471111e+09</td>\n",
       "      <td>&lt;@U0MFNAG05&gt; has joined the channel</td>\n",
       "      <td>NaN</td>\n",
       "      <td>NaN</td>\n",
       "      <td>NaN</td>\n",
       "      <td>NaN</td>\n",
       "      <td>NaN</td>\n",
       "      <td>NaN</td>\n",
       "      <td>NaN</td>\n",
       "      <td>NaN</td>\n",
       "    </tr>\n",
       "    <tr>\n",
       "      <td>2</td>\n",
       "      <td>U0MFNAG05</td>\n",
       "      <td>message</td>\n",
       "      <td>channel_purpose</td>\n",
       "      <td>1.471111e+09</td>\n",
       "      <td>&lt;@U0MFNAG05&gt; set the channel purpose: Discussi...</td>\n",
       "      <td>NaN</td>\n",
       "      <td>Discussion about all physics project related s...</td>\n",
       "      <td>NaN</td>\n",
       "      <td>NaN</td>\n",
       "      <td>NaN</td>\n",
       "      <td>NaN</td>\n",
       "      <td>NaN</td>\n",
       "      <td>NaN</td>\n",
       "    </tr>\n",
       "    <tr>\n",
       "      <td>4</td>\n",
       "      <td>U0MFNAG05</td>\n",
       "      <td>message</td>\n",
       "      <td>NaN</td>\n",
       "      <td>1.471111e+09</td>\n",
       "      <td>Hong, let’s move our discussion here</td>\n",
       "      <td>NaN</td>\n",
       "      <td>NaN</td>\n",
       "      <td>NaN</td>\n",
       "      <td>NaN</td>\n",
       "      <td>NaN</td>\n",
       "      <td>NaN</td>\n",
       "      <td>NaN</td>\n",
       "      <td>NaN</td>\n",
       "    </tr>\n",
       "    <tr>\n",
       "      <td>9</td>\n",
       "      <td>U0MFNAG05</td>\n",
       "      <td>message</td>\n",
       "      <td>NaN</td>\n",
       "      <td>1.471111e+09</td>\n",
       "      <td>just post it to this channel</td>\n",
       "      <td>NaN</td>\n",
       "      <td>NaN</td>\n",
       "      <td>NaN</td>\n",
       "      <td>NaN</td>\n",
       "      <td>NaN</td>\n",
       "      <td>NaN</td>\n",
       "      <td>NaN</td>\n",
       "      <td>NaN</td>\n",
       "    </tr>\n",
       "    <tr>\n",
       "      <td>11</td>\n",
       "      <td>U0MFNAG05</td>\n",
       "      <td>message</td>\n",
       "      <td>NaN</td>\n",
       "      <td>1.471111e+09</td>\n",
       "      <td>we try to avoid emails</td>\n",
       "      <td>NaN</td>\n",
       "      <td>NaN</td>\n",
       "      <td>NaN</td>\n",
       "      <td>NaN</td>\n",
       "      <td>NaN</td>\n",
       "      <td>NaN</td>\n",
       "      <td>NaN</td>\n",
       "      <td>NaN</td>\n",
       "    </tr>\n",
       "  </tbody>\n",
       "</table>\n",
       "</div>"
      ],
      "text/plain": [
       "         user     type          subtype            ts  \\\n",
       "0   U0MFNAG05  message     channel_join  1.471111e+09   \n",
       "2   U0MFNAG05  message  channel_purpose  1.471111e+09   \n",
       "4   U0MFNAG05  message              NaN  1.471111e+09   \n",
       "9   U0MFNAG05  message              NaN  1.471111e+09   \n",
       "11  U0MFNAG05  message              NaN  1.471111e+09   \n",
       "\n",
       "                                                 text inviter  \\\n",
       "0                 <@U0MFNAG05> has joined the channel     NaN   \n",
       "2   <@U0MFNAG05> set the channel purpose: Discussi...     NaN   \n",
       "4                Hong, let’s move our discussion here     NaN   \n",
       "9                        just post it to this channel     NaN   \n",
       "11                             we try to avoid emails     NaN   \n",
       "\n",
       "                                              purpose files  upload  \\\n",
       "0                                                 NaN   NaN     NaN   \n",
       "2   Discussion about all physics project related s...   NaN     NaN   \n",
       "4                                                 NaN   NaN     NaN   \n",
       "9                                                 NaN   NaN     NaN   \n",
       "11                                                NaN   NaN     NaN   \n",
       "\n",
       "    display_as_bot edited item_type item  \n",
       "0              NaN    NaN       NaN  NaN  \n",
       "2              NaN    NaN       NaN  NaN  \n",
       "4              NaN    NaN       NaN  NaN  \n",
       "9              NaN    NaN       NaN  NaN  \n",
       "11             NaN    NaN       NaN  NaN  "
      ]
     },
     "execution_count": 147,
     "metadata": {},
     "output_type": "execute_result"
    }
   ],
   "source": [
    "test = users_df.groupby(['user']).get_group('U0MFNAG05')\n",
    "test.head()"
   ]
  },
  {
   "cell_type": "markdown",
   "metadata": {},
   "source": [
    "## Create subgroups for all users"
   ]
  },
  {
   "cell_type": "code",
   "execution_count": 148,
   "metadata": {},
   "outputs": [
    {
     "name": "stderr",
     "output_type": "stream",
     "text": [
      "/home/mufasa/.cache/pypoetry/virtualenvs/group-messages-py3.7/lib/python3.7/site-packages/ipykernel_launcher.py:10: SettingWithCopyWarning: \n",
      "A value is trying to be set on a copy of a slice from a DataFrame.\n",
      "Try using .loc[row_indexer,col_indexer] = value instead\n",
      "\n",
      "See the caveats in the documentation: http://pandas.pydata.org/pandas-docs/stable/user_guide/indexing.html#returning-a-view-versus-a-copy\n",
      "  # Remove the CWD from sys.path while we load stuff.\n"
     ]
    }
   ],
   "source": [
    "dict_time = {}\n",
    "\n",
    "for user in total_users:\n",
    "    user_df = users_df.groupby(['user']).get_group(user)\n",
    "    \n",
    "    \"\"\"\n",
    "        Group user with the function `group_time`\n",
    "        and put the value of the group in collum `group_m`\n",
    "    \"\"\"\n",
    "    user_df['group_m'] = 'NaN'\n",
    "    dict_time = {}\n",
    "    user_df = user_df.apply(group_time, axis=1)\n",
    "    \n",
    "    \"\"\"\n",
    "        Rename `group_m` to `group_men` and changes\n",
    "        `group_men` value from `int` to `timestemp`\n",
    "    \"\"\"\n",
    "    user_df['group_men'] = 'NaN'\n",
    "    user_df = user_df.groupby('group_m').apply(change_id)\n",
    "    del user_df['group_m']\n",
    "    \n",
    "    user_json = user_df.groupby('group_men').apply(\n",
    "                    lambda x: x.to_json(orient='records'))\n",
    "    user_json = json.loads(user_json.to_json(orient='index'))\n",
    "    user_json = correct_json(user_json)\n",
    "    \n",
    "    with open('output/{}.json'.format(user), 'w') as outfile:\n",
    "        json.dump(user_json, outfile)"
   ]
  }
 ],
 "metadata": {
  "kernelspec": {
   "display_name": "Python 3",
   "language": "python",
   "name": "python3"
  },
  "language_info": {
   "codemirror_mode": {
    "name": "ipython",
    "version": 3
   },
   "file_extension": ".py",
   "mimetype": "text/x-python",
   "name": "python",
   "nbconvert_exporter": "python",
   "pygments_lexer": "ipython3",
   "version": "3.7.4"
  }
 },
 "nbformat": 4,
 "nbformat_minor": 2
}
